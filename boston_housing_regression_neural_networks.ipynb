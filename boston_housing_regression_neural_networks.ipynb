{
  "nbformat": 4,
  "nbformat_minor": 0,
  "metadata": {
    "colab": {
      "name": "boston_housing_regression_neural_networks.ipynb",
      "provenance": []
    },
    "kernelspec": {
      "name": "python3",
      "display_name": "Python 3"
    },
    "language_info": {
      "name": "python"
    }
  },
  "cells": [
    {
      "cell_type": "code",
      "metadata": {
        "id": "LXHZ38EVJ9W6"
      },
      "source": [
        "import tensorflow as tf \n",
        "import pandas as pd\n",
        "import numpy as np \n",
        "import seaborn as sns\n",
        "import matplotlib.pyplot as plt\n",
        "from sklearn.model_selection import train_test_split"
      ],
      "execution_count": null,
      "outputs": []
    },
    {
      "cell_type": "code",
      "metadata": {
        "id": "Ye6rzO8wLnoz"
      },
      "source": [
        "from sklearn.datasets import load_boston\n",
        "boston = load_boston()"
      ],
      "execution_count": null,
      "outputs": []
    },
    {
      "cell_type": "code",
      "metadata": {
        "colab": {
          "base_uri": "https://localhost:8080/",
          "height": 424
        },
        "id": "kkrfxjCQMHK_",
        "outputId": "3fbb0677-66ad-4bcc-cf90-302f48a5b8b0"
      },
      "source": [
        "bostonDF = pd.DataFrame(boston.data, columns=boston.feature_names)\n",
        "bostonDF"
      ],
      "execution_count": null,
      "outputs": [
        {
          "output_type": "execute_result",
          "data": {
            "text/html": [
              "<div>\n",
              "<style scoped>\n",
              "    .dataframe tbody tr th:only-of-type {\n",
              "        vertical-align: middle;\n",
              "    }\n",
              "\n",
              "    .dataframe tbody tr th {\n",
              "        vertical-align: top;\n",
              "    }\n",
              "\n",
              "    .dataframe thead th {\n",
              "        text-align: right;\n",
              "    }\n",
              "</style>\n",
              "<table border=\"1\" class=\"dataframe\">\n",
              "  <thead>\n",
              "    <tr style=\"text-align: right;\">\n",
              "      <th></th>\n",
              "      <th>CRIM</th>\n",
              "      <th>ZN</th>\n",
              "      <th>INDUS</th>\n",
              "      <th>CHAS</th>\n",
              "      <th>NOX</th>\n",
              "      <th>RM</th>\n",
              "      <th>AGE</th>\n",
              "      <th>DIS</th>\n",
              "      <th>RAD</th>\n",
              "      <th>TAX</th>\n",
              "      <th>PTRATIO</th>\n",
              "      <th>B</th>\n",
              "      <th>LSTAT</th>\n",
              "    </tr>\n",
              "  </thead>\n",
              "  <tbody>\n",
              "    <tr>\n",
              "      <th>0</th>\n",
              "      <td>0.00632</td>\n",
              "      <td>18.0</td>\n",
              "      <td>2.31</td>\n",
              "      <td>0.0</td>\n",
              "      <td>0.538</td>\n",
              "      <td>6.575</td>\n",
              "      <td>65.2</td>\n",
              "      <td>4.0900</td>\n",
              "      <td>1.0</td>\n",
              "      <td>296.0</td>\n",
              "      <td>15.3</td>\n",
              "      <td>396.90</td>\n",
              "      <td>4.98</td>\n",
              "    </tr>\n",
              "    <tr>\n",
              "      <th>1</th>\n",
              "      <td>0.02731</td>\n",
              "      <td>0.0</td>\n",
              "      <td>7.07</td>\n",
              "      <td>0.0</td>\n",
              "      <td>0.469</td>\n",
              "      <td>6.421</td>\n",
              "      <td>78.9</td>\n",
              "      <td>4.9671</td>\n",
              "      <td>2.0</td>\n",
              "      <td>242.0</td>\n",
              "      <td>17.8</td>\n",
              "      <td>396.90</td>\n",
              "      <td>9.14</td>\n",
              "    </tr>\n",
              "    <tr>\n",
              "      <th>2</th>\n",
              "      <td>0.02729</td>\n",
              "      <td>0.0</td>\n",
              "      <td>7.07</td>\n",
              "      <td>0.0</td>\n",
              "      <td>0.469</td>\n",
              "      <td>7.185</td>\n",
              "      <td>61.1</td>\n",
              "      <td>4.9671</td>\n",
              "      <td>2.0</td>\n",
              "      <td>242.0</td>\n",
              "      <td>17.8</td>\n",
              "      <td>392.83</td>\n",
              "      <td>4.03</td>\n",
              "    </tr>\n",
              "    <tr>\n",
              "      <th>3</th>\n",
              "      <td>0.03237</td>\n",
              "      <td>0.0</td>\n",
              "      <td>2.18</td>\n",
              "      <td>0.0</td>\n",
              "      <td>0.458</td>\n",
              "      <td>6.998</td>\n",
              "      <td>45.8</td>\n",
              "      <td>6.0622</td>\n",
              "      <td>3.0</td>\n",
              "      <td>222.0</td>\n",
              "      <td>18.7</td>\n",
              "      <td>394.63</td>\n",
              "      <td>2.94</td>\n",
              "    </tr>\n",
              "    <tr>\n",
              "      <th>4</th>\n",
              "      <td>0.06905</td>\n",
              "      <td>0.0</td>\n",
              "      <td>2.18</td>\n",
              "      <td>0.0</td>\n",
              "      <td>0.458</td>\n",
              "      <td>7.147</td>\n",
              "      <td>54.2</td>\n",
              "      <td>6.0622</td>\n",
              "      <td>3.0</td>\n",
              "      <td>222.0</td>\n",
              "      <td>18.7</td>\n",
              "      <td>396.90</td>\n",
              "      <td>5.33</td>\n",
              "    </tr>\n",
              "    <tr>\n",
              "      <th>...</th>\n",
              "      <td>...</td>\n",
              "      <td>...</td>\n",
              "      <td>...</td>\n",
              "      <td>...</td>\n",
              "      <td>...</td>\n",
              "      <td>...</td>\n",
              "      <td>...</td>\n",
              "      <td>...</td>\n",
              "      <td>...</td>\n",
              "      <td>...</td>\n",
              "      <td>...</td>\n",
              "      <td>...</td>\n",
              "      <td>...</td>\n",
              "    </tr>\n",
              "    <tr>\n",
              "      <th>501</th>\n",
              "      <td>0.06263</td>\n",
              "      <td>0.0</td>\n",
              "      <td>11.93</td>\n",
              "      <td>0.0</td>\n",
              "      <td>0.573</td>\n",
              "      <td>6.593</td>\n",
              "      <td>69.1</td>\n",
              "      <td>2.4786</td>\n",
              "      <td>1.0</td>\n",
              "      <td>273.0</td>\n",
              "      <td>21.0</td>\n",
              "      <td>391.99</td>\n",
              "      <td>9.67</td>\n",
              "    </tr>\n",
              "    <tr>\n",
              "      <th>502</th>\n",
              "      <td>0.04527</td>\n",
              "      <td>0.0</td>\n",
              "      <td>11.93</td>\n",
              "      <td>0.0</td>\n",
              "      <td>0.573</td>\n",
              "      <td>6.120</td>\n",
              "      <td>76.7</td>\n",
              "      <td>2.2875</td>\n",
              "      <td>1.0</td>\n",
              "      <td>273.0</td>\n",
              "      <td>21.0</td>\n",
              "      <td>396.90</td>\n",
              "      <td>9.08</td>\n",
              "    </tr>\n",
              "    <tr>\n",
              "      <th>503</th>\n",
              "      <td>0.06076</td>\n",
              "      <td>0.0</td>\n",
              "      <td>11.93</td>\n",
              "      <td>0.0</td>\n",
              "      <td>0.573</td>\n",
              "      <td>6.976</td>\n",
              "      <td>91.0</td>\n",
              "      <td>2.1675</td>\n",
              "      <td>1.0</td>\n",
              "      <td>273.0</td>\n",
              "      <td>21.0</td>\n",
              "      <td>396.90</td>\n",
              "      <td>5.64</td>\n",
              "    </tr>\n",
              "    <tr>\n",
              "      <th>504</th>\n",
              "      <td>0.10959</td>\n",
              "      <td>0.0</td>\n",
              "      <td>11.93</td>\n",
              "      <td>0.0</td>\n",
              "      <td>0.573</td>\n",
              "      <td>6.794</td>\n",
              "      <td>89.3</td>\n",
              "      <td>2.3889</td>\n",
              "      <td>1.0</td>\n",
              "      <td>273.0</td>\n",
              "      <td>21.0</td>\n",
              "      <td>393.45</td>\n",
              "      <td>6.48</td>\n",
              "    </tr>\n",
              "    <tr>\n",
              "      <th>505</th>\n",
              "      <td>0.04741</td>\n",
              "      <td>0.0</td>\n",
              "      <td>11.93</td>\n",
              "      <td>0.0</td>\n",
              "      <td>0.573</td>\n",
              "      <td>6.030</td>\n",
              "      <td>80.8</td>\n",
              "      <td>2.5050</td>\n",
              "      <td>1.0</td>\n",
              "      <td>273.0</td>\n",
              "      <td>21.0</td>\n",
              "      <td>396.90</td>\n",
              "      <td>7.88</td>\n",
              "    </tr>\n",
              "  </tbody>\n",
              "</table>\n",
              "<p>506 rows × 13 columns</p>\n",
              "</div>"
            ],
            "text/plain": [
              "        CRIM    ZN  INDUS  CHAS    NOX  ...  RAD    TAX  PTRATIO       B  LSTAT\n",
              "0    0.00632  18.0   2.31   0.0  0.538  ...  1.0  296.0     15.3  396.90   4.98\n",
              "1    0.02731   0.0   7.07   0.0  0.469  ...  2.0  242.0     17.8  396.90   9.14\n",
              "2    0.02729   0.0   7.07   0.0  0.469  ...  2.0  242.0     17.8  392.83   4.03\n",
              "3    0.03237   0.0   2.18   0.0  0.458  ...  3.0  222.0     18.7  394.63   2.94\n",
              "4    0.06905   0.0   2.18   0.0  0.458  ...  3.0  222.0     18.7  396.90   5.33\n",
              "..       ...   ...    ...   ...    ...  ...  ...    ...      ...     ...    ...\n",
              "501  0.06263   0.0  11.93   0.0  0.573  ...  1.0  273.0     21.0  391.99   9.67\n",
              "502  0.04527   0.0  11.93   0.0  0.573  ...  1.0  273.0     21.0  396.90   9.08\n",
              "503  0.06076   0.0  11.93   0.0  0.573  ...  1.0  273.0     21.0  396.90   5.64\n",
              "504  0.10959   0.0  11.93   0.0  0.573  ...  1.0  273.0     21.0  393.45   6.48\n",
              "505  0.04741   0.0  11.93   0.0  0.573  ...  1.0  273.0     21.0  396.90   7.88\n",
              "\n",
              "[506 rows x 13 columns]"
            ]
          },
          "metadata": {
            "tags": []
          },
          "execution_count": 4
        }
      ]
    },
    {
      "cell_type": "code",
      "metadata": {
        "colab": {
          "base_uri": "https://localhost:8080/"
        },
        "id": "RBuQEIzEMT_i",
        "outputId": "e9b65f0d-4db7-44a6-fc6a-a306db7262ee"
      },
      "source": [
        "bostonDF.isna().sum()"
      ],
      "execution_count": null,
      "outputs": [
        {
          "output_type": "execute_result",
          "data": {
            "text/plain": [
              "CRIM       0\n",
              "ZN         0\n",
              "INDUS      0\n",
              "CHAS       0\n",
              "NOX        0\n",
              "RM         0\n",
              "AGE        0\n",
              "DIS        0\n",
              "RAD        0\n",
              "TAX        0\n",
              "PTRATIO    0\n",
              "B          0\n",
              "LSTAT      0\n",
              "dtype: int64"
            ]
          },
          "metadata": {
            "tags": []
          },
          "execution_count": 5
        }
      ]
    },
    {
      "cell_type": "code",
      "metadata": {
        "colab": {
          "base_uri": "https://localhost:8080/",
          "height": 664
        },
        "id": "C89XywCFNpsj",
        "outputId": "2b276337-0207-4575-8918-ef04ced0090f"
      },
      "source": [
        "sns.pairplot(bostonDF[['TAX', 'CRIM', 'DIS', 'RM']], diag_kind='kde')"
      ],
      "execution_count": null,
      "outputs": [
        {
          "output_type": "execute_result",
          "data": {
            "text/plain": [
              "<seaborn.axisgrid.PairGrid at 0x7f617f536050>"
            ]
          },
          "metadata": {
            "tags": []
          },
          "execution_count": 6
        },
        {
          "output_type": "display_data",
          "data": {
            "image/png": "[encoded data removed]",
            "text/plain": [
              "<Figure size 720x720 with 20 Axes>"
            ]
          },
          "metadata": {
            "tags": [],
            "needs_background": "light"
          }
        }
      ]
    },
    {
      "cell_type": "code",
      "metadata": {
        "id": "vyof6ZcuXcpO"
      },
      "source": [
        "X = bostonDF.drop(\"RM\", axis = 1)\n",
        "y = bostonDF[\"RM\"]"
      ],
      "execution_count": null,
      "outputs": []
    },
    {
      "cell_type": "code",
      "metadata": {
        "id": "irTy5F1BQFFL"
      },
      "source": [
        "X_train, X_test, y_train, y_test = train_test_split(X, y, test_size = 0.2, random_state = 42)"
      ],
      "execution_count": null,
      "outputs": []
    },
    {
      "cell_type": "code",
      "metadata": {
        "colab": {
          "base_uri": "https://localhost:8080/"
        },
        "id": "h-Q4cPlbpRII",
        "outputId": "0ba0890f-3cc9-495c-8b63-ad35e54318f6"
      },
      "source": [
        "# Set random Seed \n",
        "tf.random.set_seed(42)\n",
        "\n",
        "# 1. Build our model \n",
        "boston_model = tf.keras.Sequential([\n",
        "  tf.keras.layers.Dense(10),\n",
        "  tf.keras.layers.Dense(1)\n",
        "])\n",
        "\n",
        "# 2. Compile our model \n",
        "boston_model.compile(loss = tf.keras.losses.mae,\n",
        "                     optimizer = tf.keras.optimizers.Adam(0.001),\n",
        "                     metrics =[\"mae\"])\n",
        "\n",
        "# 3. Fit the model \n",
        "history = boston_model.fit(X_train, y_train, epochs=100, verbose = 1)"
      ],
      "execution_count": null,
      "outputs": [
        {
          "output_type": "stream",
          "text": [
            "Epoch 1/100\n",
            "13/13 [==============================] - 0s 2ms/step - loss: 172.9759 - mae: 172.9759\n",
            "Epoch 2/100\n",
            "13/13 [==============================] - 0s 2ms/step - loss: 118.1121 - mae: 118.1121\n",
            "Epoch 3/100\n",
            "13/13 [==============================] - 0s 2ms/step - loss: 71.8027 - mae: 71.8027\n",
            "Epoch 4/100\n",
            "13/13 [==============================] - 0s 2ms/step - loss: 47.6342 - mae: 47.6342\n",
            "Epoch 5/100\n",
            "13/13 [==============================] - 0s 2ms/step - loss: 40.5114 - mae: 40.5114\n",
            "Epoch 6/100\n",
            "13/13 [==============================] - 0s 2ms/step - loss: 35.4742 - mae: 35.4742\n",
            "Epoch 7/100\n",
            "13/13 [==============================] - 0s 2ms/step - loss: 29.8251 - mae: 29.8251\n",
            "Epoch 8/100\n",
            "13/13 [==============================] - 0s 2ms/step - loss: 23.9686 - mae: 23.9686\n",
            "Epoch 9/100\n",
            "13/13 [==============================] - 0s 2ms/step - loss: 18.5054 - mae: 18.5054\n",
            "Epoch 10/100\n",
            "13/13 [==============================] - 0s 2ms/step - loss: 13.5914 - mae: 13.5914\n",
            "Epoch 11/100\n",
            "13/13 [==============================] - 0s 2ms/step - loss: 10.1666 - mae: 10.1666\n",
            "Epoch 12/100\n",
            "13/13 [==============================] - 0s 2ms/step - loss: 8.0226 - mae: 8.0226\n",
            "Epoch 13/100\n",
            "13/13 [==============================] - 0s 3ms/step - loss: 7.2124 - mae: 7.2124\n",
            "Epoch 14/100\n",
            "13/13 [==============================] - 0s 2ms/step - loss: 6.3790 - mae: 6.3790\n",
            "Epoch 15/100\n",
            "13/13 [==============================] - 0s 2ms/step - loss: 5.5728 - mae: 5.5728\n",
            "Epoch 16/100\n",
            "13/13 [==============================] - 0s 2ms/step - loss: 4.7940 - mae: 4.7940\n",
            "Epoch 17/100\n",
            "13/13 [==============================] - 0s 2ms/step - loss: 4.2065 - mae: 4.2065\n",
            "Epoch 18/100\n",
            "13/13 [==============================] - 0s 2ms/step - loss: 3.7879 - mae: 3.7879\n",
            "Epoch 19/100\n",
            "13/13 [==============================] - 0s 2ms/step - loss: 3.4796 - mae: 3.4796\n",
            "Epoch 20/100\n",
            "13/13 [==============================] - 0s 2ms/step - loss: 3.2260 - mae: 3.2260\n",
            "Epoch 21/100\n",
            "13/13 [==============================] - 0s 2ms/step - loss: 2.9142 - mae: 2.9142\n",
            "Epoch 22/100\n",
            "13/13 [==============================] - 0s 2ms/step - loss: 2.6760 - mae: 2.6760\n",
            "Epoch 23/100\n",
            "13/13 [==============================] - 0s 2ms/step - loss: 2.4445 - mae: 2.4445\n",
            "Epoch 24/100\n",
            "13/13 [==============================] - 0s 3ms/step - loss: 2.2770 - mae: 2.2770\n",
            "Epoch 25/100\n",
            "13/13 [==============================] - 0s 2ms/step - loss: 2.0667 - mae: 2.0667\n",
            "Epoch 26/100\n",
            "13/13 [==============================] - 0s 2ms/step - loss: 1.9435 - mae: 1.9435\n",
            "Epoch 27/100\n",
            "13/13 [==============================] - 0s 2ms/step - loss: 1.7693 - mae: 1.7693\n",
            "Epoch 28/100\n",
            "13/13 [==============================] - 0s 2ms/step - loss: 1.6319 - mae: 1.6319\n",
            "Epoch 29/100\n",
            "13/13 [==============================] - 0s 2ms/step - loss: 1.5811 - mae: 1.5811\n",
            "Epoch 30/100\n",
            "13/13 [==============================] - 0s 2ms/step - loss: 1.4867 - mae: 1.4867\n",
            "Epoch 31/100\n",
            "13/13 [==============================] - 0s 2ms/step - loss: 1.3696 - mae: 1.3696\n",
            "Epoch 32/100\n",
            "13/13 [==============================] - 0s 2ms/step - loss: 1.3286 - mae: 1.3286\n",
            "Epoch 33/100\n",
            "13/13 [==============================] - 0s 2ms/step - loss: 1.3501 - mae: 1.3501\n",
            "Epoch 34/100\n",
            "13/13 [==============================] - 0s 2ms/step - loss: 1.2417 - mae: 1.2417\n",
            "Epoch 35/100\n",
            "13/13 [==============================] - 0s 2ms/step - loss: 1.2479 - mae: 1.2479\n",
            "Epoch 36/100\n",
            "13/13 [==============================] - 0s 2ms/step - loss: 1.3357 - mae: 1.3357\n",
            "Epoch 37/100\n",
            "13/13 [==============================] - 0s 2ms/step - loss: 1.2342 - mae: 1.2342\n",
            "Epoch 38/100\n",
            "13/13 [==============================] - 0s 2ms/step - loss: 1.2454 - mae: 1.2454\n",
            "Epoch 39/100\n",
            "13/13 [==============================] - 0s 2ms/step - loss: 1.0819 - mae: 1.0819\n",
            "Epoch 40/100\n",
            "13/13 [==============================] - 0s 2ms/step - loss: 1.1448 - mae: 1.1448\n",
            "Epoch 41/100\n",
            "13/13 [==============================] - 0s 2ms/step - loss: 0.9925 - mae: 0.9925\n",
            "Epoch 42/100\n",
            "13/13 [==============================] - 0s 3ms/step - loss: 1.0193 - mae: 1.0193\n",
            "Epoch 43/100\n",
            "13/13 [==============================] - 0s 2ms/step - loss: 0.9569 - mae: 0.9569\n",
            "Epoch 44/100\n",
            "13/13 [==============================] - 0s 3ms/step - loss: 0.9952 - mae: 0.9952\n",
            "Epoch 45/100\n",
            "13/13 [==============================] - 0s 2ms/step - loss: 0.9151 - mae: 0.9151\n",
            "Epoch 46/100\n",
            "13/13 [==============================] - 0s 2ms/step - loss: 0.8816 - mae: 0.8816\n",
            "Epoch 47/100\n",
            "13/13 [==============================] - 0s 2ms/step - loss: 1.0573 - mae: 1.0573\n",
            "Epoch 48/100\n",
            "13/13 [==============================] - 0s 2ms/step - loss: 0.9814 - mae: 0.9814\n",
            "Epoch 49/100\n",
            "13/13 [==============================] - 0s 2ms/step - loss: 0.8189 - mae: 0.8189\n",
            "Epoch 50/100\n",
            "13/13 [==============================] - 0s 2ms/step - loss: 0.8225 - mae: 0.8225\n",
            "Epoch 51/100\n",
            "13/13 [==============================] - 0s 2ms/step - loss: 0.8165 - mae: 0.8165\n",
            "Epoch 52/100\n",
            "13/13 [==============================] - 0s 2ms/step - loss: 0.7904 - mae: 0.7904\n",
            "Epoch 53/100\n",
            "13/13 [==============================] - 0s 2ms/step - loss: 0.7873 - mae: 0.7873\n",
            "Epoch 54/100\n",
            "13/13 [==============================] - 0s 2ms/step - loss: 0.9218 - mae: 0.9218\n",
            "Epoch 55/100\n",
            "13/13 [==============================] - 0s 2ms/step - loss: 0.7802 - mae: 0.7802\n",
            "Epoch 56/100\n",
            "13/13 [==============================] - 0s 2ms/step - loss: 0.7458 - mae: 0.7458\n",
            "Epoch 57/100\n",
            "13/13 [==============================] - 0s 2ms/step - loss: 0.8626 - mae: 0.8626\n",
            "Epoch 58/100\n",
            "13/13 [==============================] - 0s 2ms/step - loss: 0.7731 - mae: 0.7731\n",
            "Epoch 59/100\n",
            "13/13 [==============================] - 0s 2ms/step - loss: 0.7702 - mae: 0.7702\n",
            "Epoch 60/100\n",
            "13/13 [==============================] - 0s 2ms/step - loss: 0.8249 - mae: 0.8249\n",
            "Epoch 61/100\n",
            "13/13 [==============================] - 0s 2ms/step - loss: 0.7422 - mae: 0.7422\n",
            "Epoch 62/100\n",
            "13/13 [==============================] - 0s 2ms/step - loss: 0.7709 - mae: 0.7709\n",
            "Epoch 63/100\n",
            "13/13 [==============================] - 0s 3ms/step - loss: 0.7537 - mae: 0.7537\n",
            "Epoch 64/100\n",
            "13/13 [==============================] - 0s 2ms/step - loss: 0.8161 - mae: 0.8161\n",
            "Epoch 65/100\n",
            "13/13 [==============================] - 0s 2ms/step - loss: 0.7736 - mae: 0.7736\n",
            "Epoch 66/100\n",
            "13/13 [==============================] - 0s 2ms/step - loss: 0.8862 - mae: 0.8862\n",
            "Epoch 67/100\n",
            "13/13 [==============================] - 0s 2ms/step - loss: 0.8885 - mae: 0.8885\n",
            "Epoch 68/100\n",
            "13/13 [==============================] - 0s 2ms/step - loss: 0.7775 - mae: 0.7775\n",
            "Epoch 69/100\n",
            "13/13 [==============================] - 0s 2ms/step - loss: 0.7706 - mae: 0.7706\n",
            "Epoch 70/100\n",
            "13/13 [==============================] - 0s 3ms/step - loss: 0.7654 - mae: 0.7654\n",
            "Epoch 71/100\n",
            "13/13 [==============================] - 0s 3ms/step - loss: 0.7351 - mae: 0.7351\n",
            "Epoch 72/100\n",
            "13/13 [==============================] - 0s 2ms/step - loss: 0.8953 - mae: 0.8953\n",
            "Epoch 73/100\n",
            "13/13 [==============================] - 0s 2ms/step - loss: 0.8778 - mae: 0.8778\n",
            "Epoch 74/100\n",
            "13/13 [==============================] - 0s 2ms/step - loss: 0.7608 - mae: 0.7608\n",
            "Epoch 75/100\n",
            "13/13 [==============================] - 0s 2ms/step - loss: 0.6680 - mae: 0.6680\n",
            "Epoch 76/100\n",
            "13/13 [==============================] - 0s 2ms/step - loss: 0.9146 - mae: 0.9146\n",
            "Epoch 77/100\n",
            "13/13 [==============================] - 0s 2ms/step - loss: 0.7400 - mae: 0.7400\n",
            "Epoch 78/100\n",
            "13/13 [==============================] - 0s 2ms/step - loss: 0.6725 - mae: 0.6725\n",
            "Epoch 79/100\n",
            "13/13 [==============================] - 0s 3ms/step - loss: 0.7197 - mae: 0.7197\n",
            "Epoch 80/100\n",
            "13/13 [==============================] - 0s 2ms/step - loss: 0.7362 - mae: 0.7362\n",
            "Epoch 81/100\n",
            "13/13 [==============================] - 0s 2ms/step - loss: 0.8645 - mae: 0.8645\n",
            "Epoch 82/100\n",
            "13/13 [==============================] - 0s 2ms/step - loss: 0.7256 - mae: 0.7256\n",
            "Epoch 83/100\n",
            "13/13 [==============================] - 0s 2ms/step - loss: 0.7940 - mae: 0.7940\n",
            "Epoch 84/100\n",
            "13/13 [==============================] - 0s 2ms/step - loss: 0.8502 - mae: 0.8502\n",
            "Epoch 85/100\n",
            "13/13 [==============================] - 0s 2ms/step - loss: 0.7747 - mae: 0.7747\n",
            "Epoch 86/100\n",
            "13/13 [==============================] - 0s 2ms/step - loss: 0.6691 - mae: 0.6691\n",
            "Epoch 87/100\n",
            "13/13 [==============================] - 0s 3ms/step - loss: 0.8524 - mae: 0.8524\n",
            "Epoch 88/100\n",
            "13/13 [==============================] - 0s 2ms/step - loss: 0.7555 - mae: 0.7555\n",
            "Epoch 89/100\n",
            "13/13 [==============================] - 0s 2ms/step - loss: 0.8557 - mae: 0.8557\n",
            "Epoch 90/100\n",
            "13/13 [==============================] - 0s 3ms/step - loss: 0.6796 - mae: 0.6796\n",
            "Epoch 91/100\n",
            "13/13 [==============================] - 0s 2ms/step - loss: 0.7359 - mae: 0.7359\n",
            "Epoch 92/100\n",
            "13/13 [==============================] - 0s 2ms/step - loss: 0.7130 - mae: 0.7130\n",
            "Epoch 93/100\n",
            "13/13 [==============================] - 0s 2ms/step - loss: 0.7757 - mae: 0.7757\n",
            "Epoch 94/100\n",
            "13/13 [==============================] - 0s 2ms/step - loss: 0.6987 - mae: 0.6987\n",
            "Epoch 95/100\n",
            "13/13 [==============================] - 0s 2ms/step - loss: 0.7325 - mae: 0.7325\n",
            "Epoch 96/100\n",
            "13/13 [==============================] - 0s 2ms/step - loss: 0.7673 - mae: 0.7673\n",
            "Epoch 97/100\n",
            "13/13 [==============================] - 0s 3ms/step - loss: 0.6735 - mae: 0.6735\n",
            "Epoch 98/100\n",
            "13/13 [==============================] - 0s 2ms/step - loss: 0.7286 - mae: 0.7286\n",
            "Epoch 99/100\n",
            "13/13 [==============================] - 0s 2ms/step - loss: 0.7087 - mae: 0.7087\n",
            "Epoch 100/100\n",
            "13/13 [==============================] - 0s 2ms/step - loss: 0.8157 - mae: 0.8157\n"
          ],
          "name": "stdout"
        }
      ]
    },
    {
      "cell_type": "code",
      "metadata": {
        "colab": {
          "base_uri": "https://localhost:8080/"
        },
        "id": "YtwJkKa2qJhh",
        "outputId": "77632f42-fec5-4d20-adaa-7401cd17d3de"
      },
      "source": [
        "# Check the results of our boston model using the test data\n",
        "boston_model.evaluate(X_test, y_test)"
      ],
      "execution_count": null,
      "outputs": [
        {
          "output_type": "stream",
          "text": [
            "4/4 [==============================] - 0s 3ms/step - loss: 1.1979 - mae: 1.1979\n"
          ],
          "name": "stdout"
        },
        {
          "output_type": "execute_result",
          "data": {
            "text/plain": [
              "[1.1979457139968872, 1.1979457139968872]"
            ]
          },
          "metadata": {
            "tags": []
          },
          "execution_count": 16
        }
      ]
    },
    {
      "cell_type": "code",
      "metadata": {
        "colab": {
          "base_uri": "https://localhost:8080/",
          "height": 296
        },
        "id": "plZzY6U-qlpN",
        "outputId": "072e2dde-5947-4096-9832-ed288fc147b4"
      },
      "source": [
        "pd.DataFrame(history.history).plot()\n",
        "plt.ylabel(\"loss\")\n",
        "plt.xlabel(\"epochs\")"
      ],
      "execution_count": null,
      "outputs": [
        {
          "output_type": "execute_result",
          "data": {
            "text/plain": [
              "Text(0.5, 0, 'epochs')"
            ]
          },
          "metadata": {
            "tags": []
          },
          "execution_count": 17
        },
        {
          "output_type": "display_data",
          "data": {
            "image/png": "[encoded data removed]",
            "text/plain": [
              "<Figure size 432x288 with 1 Axes>"
            ]
          },
          "metadata": {
            "tags": [],
            "needs_background": "light"
          }
        }
      ]
    },
    {
      "cell_type": "code",
      "metadata": {
        "id": "rIGxgDFYq8NU"
      },
      "source": [
        "# Making predictions \n",
        "y_preds = boston_model.predict(X_test)"
      ],
      "execution_count": null,
      "outputs": []
    },
    {
      "cell_type": "code",
      "metadata": {
        "colab": {
          "base_uri": "https://localhost:8080/"
        },
        "id": "9TSFMtsErXKn",
        "outputId": "c270c292-2e4f-48bf-f8a7-2898e1b46546"
      },
      "source": [
        "y_preds"
      ],
      "execution_count": null,
      "outputs": [
        {
          "output_type": "execute_result",
          "data": {
            "text/plain": [
              "array([[7.131075 ],\n",
              "       [8.108263 ],\n",
              "       [8.066048 ],\n",
              "       [6.7950926],\n",
              "       [7.6261973],\n",
              "       [7.2554574],\n",
              "       [6.8915114],\n",
              "       [7.371438 ],\n",
              "       [7.824529 ],\n",
              "       [7.4503016],\n",
              "       [6.8579397],\n",
              "       [6.560222 ],\n",
              "       [5.2034335],\n",
              "       [6.9931526],\n",
              "       [7.4612484],\n",
              "       [7.560176 ],\n",
              "       [6.7942476],\n",
              "       [6.7050953],\n",
              "       [7.8705   ],\n",
              "       [7.677104 ],\n",
              "       [7.062572 ],\n",
              "       [7.4344335],\n",
              "       [7.306373 ],\n",
              "       [7.8794904],\n",
              "       [7.5640235],\n",
              "       [7.3988757],\n",
              "       [6.9886556],\n",
              "       [6.3605356],\n",
              "       [7.446695 ],\n",
              "       [7.344301 ],\n",
              "       [6.807171 ],\n",
              "       [7.472486 ],\n",
              "       [7.877134 ],\n",
              "       [8.212007 ],\n",
              "       [7.122644 ],\n",
              "       [6.2168326],\n",
              "       [7.3652043],\n",
              "       [7.292069 ],\n",
              "       [7.1236653],\n",
              "       [6.5892386],\n",
              "       [6.8889856],\n",
              "       [7.9333735],\n",
              "       [8.11588  ],\n",
              "       [7.07132  ],\n",
              "       [7.1948133],\n",
              "       [7.7100835],\n",
              "       [7.5978117],\n",
              "       [6.6726265],\n",
              "       [7.5319514],\n",
              "       [7.3875194],\n",
              "       [6.804933 ],\n",
              "       [6.6056695],\n",
              "       [7.6475067],\n",
              "       [8.176785 ],\n",
              "       [6.6033363],\n",
              "       [7.4671702],\n",
              "       [7.833973 ],\n",
              "       [8.815634 ],\n",
              "       [6.975053 ],\n",
              "       [7.3369617],\n",
              "       [7.702225 ],\n",
              "       [8.589729 ],\n",
              "       [6.6517167],\n",
              "       [7.002184 ],\n",
              "       [8.612475 ],\n",
              "       [7.1684275],\n",
              "       [7.7077127],\n",
              "       [7.5957227],\n",
              "       [8.437805 ],\n",
              "       [6.291028 ],\n",
              "       [6.245724 ],\n",
              "       [7.940648 ],\n",
              "       [6.7631493],\n",
              "       [9.500249 ],\n",
              "       [7.0022073],\n",
              "       [6.642032 ],\n",
              "       [8.104719 ],\n",
              "       [8.077235 ],\n",
              "       [7.3922067],\n",
              "       [7.505024 ],\n",
              "       [7.3135886],\n",
              "       [6.737404 ],\n",
              "       [7.937902 ],\n",
              "       [7.0970445],\n",
              "       [7.4418006],\n",
              "       [7.361603 ],\n",
              "       [7.2616415],\n",
              "       [7.37482  ],\n",
              "       [7.2487774],\n",
              "       [8.125241 ],\n",
              "       [6.5406756],\n",
              "       [5.979455 ],\n",
              "       [8.290108 ],\n",
              "       [7.082373 ],\n",
              "       [8.165442 ],\n",
              "       [8.341675 ],\n",
              "       [8.103196 ],\n",
              "       [5.2671914],\n",
              "       [6.4424305],\n",
              "       [6.22015  ],\n",
              "       [6.6984787],\n",
              "       [7.0805717]], dtype=float32)"
            ]
          },
          "metadata": {
            "tags": []
          },
          "execution_count": 19
        }
      ]
    },
    {
      "cell_type": "code",
      "metadata": {
        "colab": {
          "base_uri": "https://localhost:8080/"
        },
        "id": "cngQc5OMtm_Z",
        "outputId": "5458c474-98c0-42ba-ea56-201eb778438f"
      },
      "source": [
        "boston_model.summary()"
      ],
      "execution_count": null,
      "outputs": [
        {
          "output_type": "stream",
          "text": [
            "Model: \"sequential_3\"\n",
            "_________________________________________________________________\n",
            "Layer (type)                 Output Shape              Param #   \n",
            "=================================================================\n",
            "dense_6 (Dense)              (None, 10)                130       \n",
            "_________________________________________________________________\n",
            "dense_7 (Dense)              (None, 1)                 11        \n",
            "=================================================================\n",
            "Total params: 141\n",
            "Trainable params: 141\n",
            "Non-trainable params: 0\n",
            "_________________________________________________________________\n"
          ],
          "name": "stdout"
        }
      ]
    },
    {
      "cell_type": "code",
      "metadata": {
        "colab": {
          "base_uri": "https://localhost:8080/"
        },
        "id": "JCAYeGpVsKZH",
        "outputId": "1b9ef9d1-535b-46b7-e281-b91175fdb769"
      },
      "source": [
        "boston_model.save(\"Best_model_SavedModel_format\")"
      ],
      "execution_count": null,
      "outputs": [
        {
          "output_type": "stream",
          "text": [
            "INFO:tensorflow:Assets written to: Best_model_SavedModel_format/assets\n"
          ],
          "name": "stdout"
        }
      ]
    },
    {
      "cell_type": "code",
      "metadata": {
        "colab": {
          "base_uri": "https://localhost:8080/"
        },
        "id": "avnuHrFmvp9C",
        "outputId": "5efeb4b2-8613-46a9-ac7b-eea2739e95d0"
      },
      "source": [
        "mae = tf.metrics.mean_absolute_error(y_true= y_test, \n",
        "                                     y_pred= y_preds)\n",
        "\n",
        "mae"
      ],
      "execution_count": null,
      "outputs": [
        {
          "output_type": "execute_result",
          "data": {
            "text/plain": [
              "<tf.Tensor: shape=(102,), dtype=float32, numpy=\n",
              "array([1.0302706 , 1.9474298 , 1.9052143 , 0.74976873, 1.4826858 ,\n",
              "       1.139089  , 0.8268231 , 1.2448449 , 1.669351  , 1.3175231 ,\n",
              "       0.7992358 , 0.594622  , 1.0239325 , 0.9112787 , 1.3276113 ,\n",
              "       1.420548  , 0.749106  , 0.6845636 , 1.712961  , 1.5305979 ,\n",
              "       0.97117   , 1.3028995 , 1.185013  , 1.7216867 , 1.4241691 ,\n",
              "       1.2701305 , 0.9073989 , 0.5071478 , 1.3141992 , 1.2198365 ,\n",
              "       0.7592418 , 1.3380163 , 1.7193763 , 2.0511732 , 1.0229967 ,\n",
              "       0.47629082, 1.2391001 , 1.1721112 , 1.0238779 , 0.61103255,\n",
              "       0.8247431 , 1.7745131 , 1.9550467 , 0.97871727, 1.0854528 ,\n",
              "       1.5616374 , 1.4559698 , 0.6634741 , 1.3939837 , 1.2596649 ,\n",
              "       0.75748676, 0.62115544, 1.5027417 , 2.015952  , 0.6196915 ,\n",
              "       1.3330687 , 1.6782392 , 2.6548007 , 0.89576024, 1.2130727 ,\n",
              "       1.5542414 , 2.428896  , 0.6500478 , 0.91907054, 2.4516423 ,\n",
              "       1.0624963 , 1.559406  , 1.4540037 , 2.276972  , 0.48813355,\n",
              "       0.47980425, 1.7816452 , 0.7250651 , 3.3394156 , 0.91909057,\n",
              "       0.64397115, 1.9438858 , 1.9164019 , 1.2639846 , 1.3686404 ,\n",
              "       1.1915326 , 0.7065106 , 1.7789528 , 1.0009109 , 1.3096888 ,\n",
              "       1.2357811 , 1.1446669 , 1.2479619 , 1.1330684 , 1.9644079 ,\n",
              "       0.58419746, 0.49711123, 2.1292744 , 0.9882533 , 2.004609  ,\n",
              "       2.1808417 , 1.9423628 , 0.96642536, 0.5360387 , 0.47657356,\n",
              "       0.68020195, 0.9866991 ], dtype=float32)>"
            ]
          },
          "metadata": {
            "tags": []
          },
          "execution_count": 34
        }
      ]
    },
    {
      "cell_type": "code",
      "metadata": {
        "colab": {
          "base_uri": "https://localhost:8080/"
        },
        "id": "8lyfGJkiv5Nn",
        "outputId": "b7a2e79a-8551-4ab5-e632-eef4b209d5cf"
      },
      "source": [
        "y_test.shape, y_preds.shape"
      ],
      "execution_count": null,
      "outputs": [
        {
          "output_type": "execute_result",
          "data": {
            "text/plain": [
              "((102,), (102, 1))"
            ]
          },
          "metadata": {
            "tags": []
          },
          "execution_count": 35
        }
      ]
    },
    {
      "cell_type": "code",
      "metadata": {
        "colab": {
          "base_uri": "https://localhost:8080/"
        },
        "id": "ZTAe8IUtwDWs",
        "outputId": "d10d142c-a245-4b87-ea5c-e8435044b9d5"
      },
      "source": [
        "y_preds.squeeze().shape"
      ],
      "execution_count": null,
      "outputs": [
        {
          "output_type": "execute_result",
          "data": {
            "text/plain": [
              "(102,)"
            ]
          },
          "metadata": {
            "tags": []
          },
          "execution_count": 36
        }
      ]
    },
    {
      "cell_type": "code",
      "metadata": {
        "colab": {
          "base_uri": "https://localhost:8080/"
        },
        "id": "vWONheCuwJo0",
        "outputId": "0ae4b960-93da-4fde-a36a-e304d6d66b2f"
      },
      "source": [
        "mae = tf.metrics.mean_absolute_error(y_true=y_test,\n",
        "                                     y_pred= y_preds.squeeze())\n",
        "\n",
        "mae"
      ],
      "execution_count": null,
      "outputs": [
        {
          "output_type": "execute_result",
          "data": {
            "text/plain": [
              "<tf.Tensor: shape=(), dtype=float32, numpy=1.1979448>"
            ]
          },
          "metadata": {
            "tags": []
          },
          "execution_count": 37
        }
      ]
    },
    {
      "cell_type": "code",
      "metadata": {
        "colab": {
          "base_uri": "https://localhost:8080/"
        },
        "id": "yYmXXIGEwYN0",
        "outputId": "6af775f1-691c-4a46-d11c-2a80850549b5"
      },
      "source": [
        "# Similarly squeeze y_preds to try the mse\n",
        "\n",
        "mse = tf.metrics.mean_squared_error(y_true = y_test,\n",
        "                                    y_pred = y_preds.squeeze())\n",
        "\n",
        "mse"
      ],
      "execution_count": null,
      "outputs": [
        {
          "output_type": "execute_result",
          "data": {
            "text/plain": [
              "<tf.Tensor: shape=(), dtype=float32, numpy=1.9329466>"
            ]
          },
          "metadata": {
            "tags": []
          },
          "execution_count": 38
        }
      ]
    },
    {
      "cell_type": "code",
      "metadata": {
        "id": "0INOF_fexHR2"
      },
      "source": [
        ""
      ],
      "execution_count": null,
      "outputs": []
    }
  ]
}